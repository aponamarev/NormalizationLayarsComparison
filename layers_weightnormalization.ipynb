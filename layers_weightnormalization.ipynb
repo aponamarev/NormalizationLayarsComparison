{
  "nbformat": 4,
  "nbformat_minor": 0,
  "metadata": {
    "accelerator": "GPU",
    "colab": {
      "name": "Copy of layers_weightnormalization.ipynb",
      "provenance": [],
      "collapsed_sections": [],
      "toc_visible": true,
      "include_colab_link": true
    },
    "kernelspec": {
      "name": "python3",
      "display_name": "Python 3"
    },
    "language_info": {
      "codemirror_mode": {
        "name": "ipython",
        "version": 3
      },
      "file_extension": ".py",
      "mimetype": "text/x-python",
      "name": "python",
      "nbconvert_exporter": "python",
      "pygments_lexer": "ipython3",
      "version": "3.6.3"
    }
  },
  "cells": [
    {
      "cell_type": "markdown",
      "metadata": {
        "id": "view-in-github",
        "colab_type": "text"
      },
      "source": [
        "<a href=\"https://colab.research.google.com/github/aponamarev/NormalizationLayarsComparison/blob/master/layers_weightnormalization.ipynb\" target=\"_parent\"><img src=\"https://colab.research.google.com/assets/colab-badge.svg\" alt=\"Open In Colab\"/></a>"
      ]
    },
    {
      "cell_type": "markdown",
      "metadata": {
        "colab_type": "text",
        "id": "Tce3stUlHN0L"
      },
      "source": [
        "##### Copyright 2019 The TensorFlow Authors.\n",
        "\n"
      ]
    },
    {
      "cell_type": "code",
      "metadata": {
        "cellView": "form",
        "colab_type": "code",
        "id": "tuOe1ymfHZPu",
        "colab": {}
      },
      "source": [
        "#@title Licensed under the Apache License, Version 2.0\n",
        "# you may not use this file except in compliance with the License.\n",
        "# You may obtain a copy of the License at\n",
        "#\n",
        "# https://www.apache.org/licenses/LICENSE-2.0\n",
        "#\n",
        "# Unless required by applicable law or agreed to in writing, software\n",
        "# distributed under the License is distributed on an \"AS IS\" BASIS,\n",
        "# WITHOUT WARRANTIES OR CONDITIONS OF ANY KIND, either express or implied.\n",
        "# See the License for the specific language governing permissions and\n",
        "# limitations under the License."
      ],
      "execution_count": 0,
      "outputs": []
    },
    {
      "cell_type": "markdown",
      "metadata": {
        "colab_type": "text",
        "id": "MfBg1C5NB3X0"
      },
      "source": [
        "# TensorFlow Addons Layers: WeightNormalization\n",
        "\n",
        "<table class=\"tfo-notebook-buttons\" align=\"left\">\n",
        "  <td>\n",
        "    <a target=\"_blank\" href=\"https://www.tensorflow.org/addons/tutorials/layers_weightnormalization\"><img src=\"https://www.tensorflow.org/images/tf_logo_32px.png\" />View on TensorFlow.org</a>\n",
        "  </td>\n",
        "  <td>\n",
        "    <a target=\"_blank\" href=\"https://colab.research.google.com/github/tensorflow/addons/blob/master/docs/tutorials/layers_weightnormalization.ipynb\"><img src=\"https://www.tensorflow.org/images/colab_logo_32px.png\" />Run in Google Colab</a>\n",
        "  </td>\n",
        "  <td>\n",
        "    <a target=\"_blank\" href=\"https://github.com/tensorflow/addons/blob/master/docs/tutorials/layers_weightnormalization.ipynb\"><img src=\"https://www.tensorflow.org/images/GitHub-Mark-32px.png\" />View source on GitHub</a>\n",
        "  </td>\n",
        "  <td>\n",
        "    <a href=\"https://storage.googleapis.com/tensorflow_docs/addons/docs/tutorials/layers_weightnormalization.ipynb\"><img src=\"https://www.tensorflow.org/images/download_logo_32px.png\" />Download notebook</a>\n",
        "  </td>\n",
        "</table>"
      ]
    },
    {
      "cell_type": "markdown",
      "metadata": {
        "colab_type": "text",
        "id": "xHxb-dlhMIzW"
      },
      "source": [
        "## Overview\n",
        "\n",
        "This notebook will demonstrate how to use the Weight Normalization layer and how it can improve convergence.\n"
      ]
    },
    {
      "cell_type": "markdown",
      "metadata": {
        "colab_type": "text",
        "id": "KR01t9v_fxbT"
      },
      "source": [
        "# WeightNormalization\n",
        "\n",
        "A Simple Reparameterization to Accelerate Training of Deep Neural Networks:\n",
        "\n",
        "Tim Salimans, Diederik P. Kingma (2016)\n",
        "\n",
        "> By reparameterizing the weights in this way we improve the conditioning of the optimization problem and we speed up convergence of stochastic gradient descent. Our reparameterization is inspired by batch normalization but does not introduce any dependencies between the examples in a minibatch. This means that our method can also be applied successfully to recurrent models such as LSTMs and to noise-sensitive applications such as deep reinforcement learning or generative models, for which batch normalization is less well suited. Although our method is much simpler, it still provides much of the speed-up of full batch normalization. In addition, the computational overhead of our method is lower, permitting more optimization steps to be taken in the same amount of time.\n",
        "\n",
        "> https://arxiv.org/abs/1602.07868 \n",
        "\n",
        "<img src=\"https://raw.githubusercontent.com/seanpmorgan/tf-weightnorm/master/static/wrapped-graph.png\" width=\"80%\"><br><br>\n"
      ]
    },
    {
      "cell_type": "markdown",
      "metadata": {
        "colab_type": "text",
        "id": "MUXex9ctTuDB"
      },
      "source": [
        "## Setup"
      ]
    },
    {
      "cell_type": "code",
      "metadata": {
        "colab_type": "code",
        "id": "IqR2PQG4ZaZ0",
        "colab": {}
      },
      "source": [
        "from __future__ import absolute_import, division, print_function, unicode_literals"
      ],
      "execution_count": 0,
      "outputs": []
    },
    {
      "cell_type": "code",
      "metadata": {
        "colab_type": "code",
        "id": "OywLbs7EXiE_",
        "colab": {
          "base_uri": "https://localhost:8080/",
          "height": 34
        },
        "outputId": "ba568ca8-22dd-4913-859b-80c6e56548ad"
      },
      "source": [
        "try:\n",
        "  %tensorflow_version 2.x\n",
        "except:\n",
        "  pass\n",
        "\n",
        "import tensorflow as tf"
      ],
      "execution_count": 3,
      "outputs": [
        {
          "output_type": "stream",
          "text": [
            "TensorFlow 2.x selected.\n"
          ],
          "name": "stdout"
        }
      ]
    },
    {
      "cell_type": "code",
      "metadata": {
        "colab_type": "code",
        "id": "Qrt0wi9AXiFB",
        "colab": {
          "base_uri": "https://localhost:8080/",
          "height": 34
        },
        "outputId": "40cb0b81-492f-4038-d5c6-f995b01111b4"
      },
      "source": [
        "!pip install  --no-deps tensorflow-addons~=0.6"
      ],
      "execution_count": 4,
      "outputs": [
        {
          "output_type": "stream",
          "text": [
            "Requirement already satisfied: tensorflow-addons~=0.6 in /tensorflow-2.1.0/python3.6 (0.6.0)\n"
          ],
          "name": "stdout"
        }
      ]
    },
    {
      "cell_type": "code",
      "metadata": {
        "colab_type": "code",
        "id": "KQMhhq1qXiFF",
        "colab": {}
      },
      "source": [
        "import tensorflow_addons as tfa\n",
        "import numpy as np\n",
        "from matplotlib import pyplot as plt"
      ],
      "execution_count": 0,
      "outputs": []
    },
    {
      "cell_type": "code",
      "metadata": {
        "colab_type": "code",
        "id": "ULWHqMAnTVZD",
        "colab": {}
      },
      "source": [
        "# Hyper Parameters\n",
        "batch_size = 512\n",
        "epochs = 5\n",
        "num_classes=10"
      ],
      "execution_count": 0,
      "outputs": []
    },
    {
      "cell_type": "markdown",
      "metadata": {
        "colab_type": "text",
        "id": "fhM0ieDpSnKh"
      },
      "source": [
        "## Build Models"
      ]
    },
    {
      "cell_type": "code",
      "metadata": {
        "colab_type": "code",
        "id": "7XZXnBYgRPSk",
        "colab": {}
      },
      "source": [
        "# Standard ConvNet\n",
        "reg_model = tf.keras.Sequential([\n",
        "    tf.keras.layers.Conv2D(6, 5, activation='relu'),\n",
        "    tf.keras.layers.MaxPooling2D(2, 2),\n",
        "    tf.keras.layers.Conv2D(16, 5, activation='relu'),\n",
        "    tf.keras.layers.MaxPooling2D(2, 2),\n",
        "    tf.keras.layers.Flatten(),\n",
        "    tf.keras.layers.Dense(120, activation='relu'),\n",
        "    tf.keras.layers.Dense(84, activation='relu'),\n",
        "    tf.keras.layers.Dense(num_classes, activation='softmax'),\n",
        "])"
      ],
      "execution_count": 0,
      "outputs": []
    },
    {
      "cell_type": "code",
      "metadata": {
        "id": "u1eypdlircV-",
        "colab_type": "code",
        "colab": {}
      },
      "source": [
        "# Layer Norm ConvNet\n",
        "ln_model = tf.keras.Sequential([\n",
        "    tf.keras.layers.Conv2D(6, 5, activation='relu'),\n",
        "    tf.keras.layers.LayerNormalization(),\n",
        "    tf.keras.layers.MaxPooling2D(2, 2),\n",
        "    tf.keras.layers.Conv2D(16, 5, activation='relu'),\n",
        "    tf.keras.layers.LayerNormalization(),\n",
        "    tf.keras.layers.MaxPooling2D(2, 2),\n",
        "    tf.keras.layers.Flatten(),\n",
        "    tf.keras.layers.Dense(120, activation='relu'),\n",
        "    tf.keras.layers.LayerNormalization(),\n",
        "    tf.keras.layers.Dense(84, activation='relu'),\n",
        "    tf.keras.layers.LayerNormalization(),\n",
        "    tf.keras.layers.Dense(num_classes, activation='softmax'),\n",
        "])"
      ],
      "execution_count": 0,
      "outputs": []
    },
    {
      "cell_type": "code",
      "metadata": {
        "colab_type": "code",
        "id": "UZd6V90eR4Gm",
        "colab": {}
      },
      "source": [
        "# WeightNorm ConvNet\n",
        "wn_model = tf.keras.Sequential([\n",
        "    tfa.layers.WeightNormalization(tf.keras.layers.Conv2D(6, 5, activation='relu')),\n",
        "    tf.keras.layers.MaxPooling2D(2, 2),\n",
        "    tfa.layers.WeightNormalization(tf.keras.layers.Conv2D(16, 5, activation='relu')),\n",
        "    tf.keras.layers.MaxPooling2D(2, 2),\n",
        "    tf.keras.layers.Flatten(),\n",
        "    tfa.layers.WeightNormalization(tf.keras.layers.Dense(120, activation='relu')),\n",
        "    tfa.layers.WeightNormalization(tf.keras.layers.Dense(84, activation='relu')),\n",
        "    tfa.layers.WeightNormalization(tf.keras.layers.Dense(num_classes, activation='softmax')),\n",
        "])"
      ],
      "execution_count": 0,
      "outputs": []
    },
    {
      "cell_type": "code",
      "metadata": {
        "id": "m1SnbQ3drRQe",
        "colab_type": "code",
        "colab": {}
      },
      "source": [
        "# Batch Norm ConvNet\n",
        "bn_model = tf.keras.Sequential([\n",
        "    tf.keras.layers.Conv2D(6, 5, activation='relu'),\n",
        "    tf.keras.layers.BatchNormalization(),\n",
        "    tf.keras.layers.MaxPooling2D(2, 2),\n",
        "    tf.keras.layers.Conv2D(16, 5, activation='relu'),\n",
        "    tf.keras.layers.BatchNormalization(),\n",
        "    tf.keras.layers.MaxPooling2D(2, 2),\n",
        "    tf.keras.layers.Flatten(),\n",
        "    tf.keras.layers.Dense(120, activation='relu'),\n",
        "    tf.keras.layers.BatchNormalization(),\n",
        "    tf.keras.layers.Dense(84, activation='relu'),\n",
        "    tf.keras.layers.BatchNormalization(),\n",
        "    tf.keras.layers.Dense(num_classes, activation='softmax'),\n",
        "])"
      ],
      "execution_count": 0,
      "outputs": []
    },
    {
      "cell_type": "code",
      "metadata": {
        "id": "pyUuWZSUvM7x",
        "colab_type": "code",
        "colab": {}
      },
      "source": [
        "# WeightNorm ConvNet\n",
        "wln_model = tf.keras.Sequential([\n",
        "    tfa.layers.WeightNormalization(tf.keras.layers.Conv2D(6, 5, activation='relu')),\n",
        "    tf.keras.layers.LayerNormalization(),\n",
        "    tf.keras.layers.MaxPooling2D(2, 2),\n",
        "    tfa.layers.WeightNormalization(tf.keras.layers.Conv2D(16, 5, activation='relu')),\n",
        "    tf.keras.layers.LayerNormalization(),\n",
        "    tf.keras.layers.MaxPooling2D(2, 2),\n",
        "    tf.keras.layers.Flatten(),\n",
        "    tfa.layers.WeightNormalization(tf.keras.layers.Dense(120, activation='relu')),\n",
        "    tf.keras.layers.LayerNormalization(),\n",
        "    tfa.layers.WeightNormalization(tf.keras.layers.Dense(84, activation='relu')),\n",
        "    tf.keras.layers.LayerNormalization(),\n",
        "    tfa.layers.WeightNormalization(tf.keras.layers.Dense(num_classes, activation='softmax')),\n",
        "])"
      ],
      "execution_count": 0,
      "outputs": []
    },
    {
      "cell_type": "markdown",
      "metadata": {
        "colab_type": "text",
        "id": "AA5dti8AS2Y7"
      },
      "source": [
        "## Load Data"
      ]
    },
    {
      "cell_type": "code",
      "metadata": {
        "colab_type": "code",
        "id": "L8Isjc7W8MEn",
        "colab": {}
      },
      "source": [
        "(x_train, y_train), (x_test, y_test) = tf.keras.datasets.cifar10.load_data()\n",
        "\n",
        "# Convert class vectors to binary class matrices.\n",
        "y_train = tf.keras.utils.to_categorical(y_train, num_classes)\n",
        "y_test = tf.keras.utils.to_categorical(y_test, num_classes)\n",
        "\n",
        "x_train = x_train.astype('float32')\n",
        "x_test = x_test.astype('float32')\n",
        "x_train /= 255\n",
        "x_test /= 255"
      ],
      "execution_count": 0,
      "outputs": []
    },
    {
      "cell_type": "markdown",
      "metadata": {
        "colab_type": "text",
        "id": "cH1CG9E7S34C"
      },
      "source": [
        "## Train Models"
      ]
    },
    {
      "cell_type": "code",
      "metadata": {
        "colab_type": "code",
        "id": "EvNKxfaI7vSm",
        "colab": {
          "base_uri": "https://localhost:8080/",
          "height": 204
        },
        "outputId": "356b8edd-c6d6-486a-8337-2ae34051779e"
      },
      "source": [
        "reg_model.compile(optimizer='adam', \n",
        "                  loss='categorical_crossentropy',\n",
        "                  metrics=['accuracy'])\n",
        "\n",
        "reg_history = reg_model.fit(x_train, y_train,\n",
        "                            batch_size=batch_size,\n",
        "                            epochs=epochs,\n",
        "                            validation_data=(x_test, y_test),\n",
        "                            shuffle=True)"
      ],
      "execution_count": 13,
      "outputs": [
        {
          "output_type": "stream",
          "text": [
            "Train on 50000 samples, validate on 10000 samples\n",
            "Epoch 1/5\n",
            "50000/50000 [==============================] - 4s 70us/sample - loss: 1.9234 - accuracy: 0.3008 - val_loss: 1.7122 - val_accuracy: 0.3809\n",
            "Epoch 2/5\n",
            "50000/50000 [==============================] - 1s 16us/sample - loss: 1.5980 - accuracy: 0.4251 - val_loss: 1.5893 - val_accuracy: 0.4202\n",
            "Epoch 3/5\n",
            "50000/50000 [==============================] - 1s 16us/sample - loss: 1.4815 - accuracy: 0.4653 - val_loss: 1.4799 - val_accuracy: 0.4666\n",
            "Epoch 4/5\n",
            "50000/50000 [==============================] - 1s 16us/sample - loss: 1.4223 - accuracy: 0.4890 - val_loss: 1.4202 - val_accuracy: 0.4876\n",
            "Epoch 5/5\n",
            "50000/50000 [==============================] - 1s 16us/sample - loss: 1.3763 - accuracy: 0.5073 - val_loss: 1.3641 - val_accuracy: 0.5132\n"
          ],
          "name": "stdout"
        }
      ]
    },
    {
      "cell_type": "code",
      "metadata": {
        "id": "4vb4fez0r0D8",
        "colab_type": "code",
        "colab": {
          "base_uri": "https://localhost:8080/",
          "height": 204
        },
        "outputId": "f71309e6-e8d3-4d92-b3c0-73d8202ff745"
      },
      "source": [
        "ln_model.compile(optimizer='adam', \n",
        "                  loss='categorical_crossentropy',\n",
        "                  metrics=['accuracy'])\n",
        "\n",
        "ln_history = ln_model.fit(x_train, y_train,\n",
        "                          batch_size=batch_size,\n",
        "                          epochs=epochs,\n",
        "                          validation_data=(x_test, y_test),\n",
        "                          shuffle=True)"
      ],
      "execution_count": 14,
      "outputs": [
        {
          "output_type": "stream",
          "text": [
            "Train on 50000 samples, validate on 10000 samples\n",
            "Epoch 1/5\n",
            "50000/50000 [==============================] - 5s 93us/sample - loss: 2.0043 - accuracy: 0.2643 - val_loss: 1.6997 - val_accuracy: 0.3854\n",
            "Epoch 2/5\n",
            "50000/50000 [==============================] - 4s 78us/sample - loss: 1.5830 - accuracy: 0.4260 - val_loss: 1.5151 - val_accuracy: 0.4548\n",
            "Epoch 3/5\n",
            "50000/50000 [==============================] - 4s 79us/sample - loss: 1.4297 - accuracy: 0.4872 - val_loss: 1.3956 - val_accuracy: 0.5023\n",
            "Epoch 4/5\n",
            "50000/50000 [==============================] - 4s 79us/sample - loss: 1.3500 - accuracy: 0.5181 - val_loss: 1.3463 - val_accuracy: 0.5167\n",
            "Epoch 5/5\n",
            "50000/50000 [==============================] - 4s 79us/sample - loss: 1.2907 - accuracy: 0.5410 - val_loss: 1.2882 - val_accuracy: 0.5391\n"
          ],
          "name": "stdout"
        }
      ]
    },
    {
      "cell_type": "code",
      "metadata": {
        "colab_type": "code",
        "id": "esmMh-5g7wmp",
        "colab": {
          "base_uri": "https://localhost:8080/",
          "height": 275
        },
        "outputId": "9c4b80d5-696c-408c-fabe-503eec7803d5"
      },
      "source": [
        "wn_model.compile(optimizer='adam', \n",
        "                 loss='categorical_crossentropy',\n",
        "                 metrics=['accuracy'])\n",
        "\n",
        "wn_history = wn_model.fit(x_train, y_train,\n",
        "                          batch_size=batch_size,\n",
        "                          epochs=epochs,\n",
        "                          validation_data=(x_test, y_test),\n",
        "                          shuffle=True)"
      ],
      "execution_count": 15,
      "outputs": [
        {
          "output_type": "stream",
          "text": [
            "WARNING:tensorflow:From /tensorflow-2.1.0/python3.6/tensorflow_addons/layers/wrappers.py:84: Layer.add_variable (from tensorflow.python.keras.engine.base_layer) is deprecated and will be removed in a future version.\n",
            "Instructions for updating:\n",
            "Please use `layer.add_weight` method instead.\n",
            "Train on 50000 samples, validate on 10000 samples\n",
            "Epoch 1/5\n",
            "50000/50000 [==============================] - 3s 56us/sample - loss: 1.7757 - accuracy: 0.3517 - val_loss: 1.6071 - val_accuracy: 0.4214\n",
            "Epoch 2/5\n",
            "50000/50000 [==============================] - 1s 22us/sample - loss: 1.4830 - accuracy: 0.4651 - val_loss: 1.4281 - val_accuracy: 0.4890\n",
            "Epoch 3/5\n",
            "50000/50000 [==============================] - 1s 21us/sample - loss: 1.3647 - accuracy: 0.5110 - val_loss: 1.3640 - val_accuracy: 0.5117\n",
            "Epoch 4/5\n",
            "50000/50000 [==============================] - 1s 21us/sample - loss: 1.2817 - accuracy: 0.5424 - val_loss: 1.3237 - val_accuracy: 0.5241\n",
            "Epoch 5/5\n",
            "50000/50000 [==============================] - 1s 21us/sample - loss: 1.2149 - accuracy: 0.5651 - val_loss: 1.2642 - val_accuracy: 0.5457\n"
          ],
          "name": "stdout"
        }
      ]
    },
    {
      "cell_type": "code",
      "metadata": {
        "id": "2OBoQpL8zOYs",
        "colab_type": "code",
        "colab": {}
      },
      "source": [
        "epochs_long = 25"
      ],
      "execution_count": 0,
      "outputs": []
    },
    {
      "cell_type": "code",
      "metadata": {
        "id": "pjA9DjMprssv",
        "colab_type": "code",
        "colab": {
          "base_uri": "https://localhost:8080/",
          "height": 884
        },
        "outputId": "22a6edf0-5585-463d-93b2-edb45bda4f8a"
      },
      "source": [
        "bn_model.compile(optimizer='adam', \n",
        "                  loss='categorical_crossentropy',\n",
        "                  metrics=['accuracy'])\n",
        "\n",
        "bn_history = bn_model.fit(x_train, y_train,\n",
        "                          batch_size=batch_size,\n",
        "                          epochs=epochs_long,\n",
        "                          validation_data=(x_test, y_test),\n",
        "                          shuffle=True)"
      ],
      "execution_count": 17,
      "outputs": [
        {
          "output_type": "stream",
          "text": [
            "Train on 50000 samples, validate on 10000 samples\n",
            "Epoch 1/25\n",
            "50000/50000 [==============================] - 2s 36us/sample - loss: 1.8179 - accuracy: 0.3583 - val_loss: 2.4665 - val_accuracy: 0.1559\n",
            "Epoch 2/25\n",
            "50000/50000 [==============================] - 1s 20us/sample - loss: 1.4285 - accuracy: 0.4889 - val_loss: 2.6147 - val_accuracy: 0.1927\n",
            "Epoch 3/25\n",
            "50000/50000 [==============================] - 1s 20us/sample - loss: 1.2883 - accuracy: 0.5455 - val_loss: 2.1767 - val_accuracy: 0.2922\n",
            "Epoch 4/25\n",
            "50000/50000 [==============================] - 1s 20us/sample - loss: 1.1948 - accuracy: 0.5809 - val_loss: 1.8057 - val_accuracy: 0.3929\n",
            "Epoch 5/25\n",
            "50000/50000 [==============================] - 1s 20us/sample - loss: 1.1243 - accuracy: 0.6054 - val_loss: 1.5364 - val_accuracy: 0.4755\n",
            "Epoch 6/25\n",
            "50000/50000 [==============================] - 1s 20us/sample - loss: 1.0694 - accuracy: 0.6254 - val_loss: 1.1986 - val_accuracy: 0.5727\n",
            "Epoch 7/25\n",
            "50000/50000 [==============================] - 1s 20us/sample - loss: 1.0196 - accuracy: 0.6435 - val_loss: 1.2175 - val_accuracy: 0.5693\n",
            "Epoch 8/25\n",
            "50000/50000 [==============================] - 1s 20us/sample - loss: 0.9759 - accuracy: 0.6606 - val_loss: 1.1962 - val_accuracy: 0.5829\n",
            "Epoch 9/25\n",
            "50000/50000 [==============================] - 1s 20us/sample - loss: 0.9364 - accuracy: 0.6724 - val_loss: 1.1659 - val_accuracy: 0.5953\n",
            "Epoch 10/25\n",
            "50000/50000 [==============================] - 1s 20us/sample - loss: 0.8982 - accuracy: 0.6888 - val_loss: 1.1758 - val_accuracy: 0.5948\n",
            "Epoch 11/25\n",
            "50000/50000 [==============================] - 1s 19us/sample - loss: 0.8643 - accuracy: 0.7002 - val_loss: 1.2041 - val_accuracy: 0.5786\n",
            "Epoch 12/25\n",
            "50000/50000 [==============================] - 1s 20us/sample - loss: 0.8331 - accuracy: 0.7108 - val_loss: 1.1989 - val_accuracy: 0.5944\n",
            "Epoch 13/25\n",
            "50000/50000 [==============================] - 1s 20us/sample - loss: 0.8019 - accuracy: 0.7193 - val_loss: 1.2515 - val_accuracy: 0.5823\n",
            "Epoch 14/25\n",
            "50000/50000 [==============================] - 1s 20us/sample - loss: 0.7755 - accuracy: 0.7290 - val_loss: 1.1898 - val_accuracy: 0.5994\n",
            "Epoch 15/25\n",
            "50000/50000 [==============================] - 1s 20us/sample - loss: 0.7434 - accuracy: 0.7398 - val_loss: 1.2117 - val_accuracy: 0.5952\n",
            "Epoch 16/25\n",
            "50000/50000 [==============================] - 1s 19us/sample - loss: 0.7186 - accuracy: 0.7489 - val_loss: 1.2700 - val_accuracy: 0.5873\n",
            "Epoch 17/25\n",
            "50000/50000 [==============================] - 1s 20us/sample - loss: 0.6972 - accuracy: 0.7564 - val_loss: 1.3586 - val_accuracy: 0.5727\n",
            "Epoch 18/25\n",
            "50000/50000 [==============================] - 1s 19us/sample - loss: 0.6730 - accuracy: 0.7657 - val_loss: 1.2892 - val_accuracy: 0.5864\n",
            "Epoch 19/25\n",
            "50000/50000 [==============================] - 1s 20us/sample - loss: 0.6504 - accuracy: 0.7740 - val_loss: 1.3104 - val_accuracy: 0.5888\n",
            "Epoch 20/25\n",
            "50000/50000 [==============================] - 1s 20us/sample - loss: 0.6258 - accuracy: 0.7829 - val_loss: 1.3318 - val_accuracy: 0.5906\n",
            "Epoch 21/25\n",
            "50000/50000 [==============================] - 1s 20us/sample - loss: 0.6072 - accuracy: 0.7887 - val_loss: 1.4003 - val_accuracy: 0.5810\n",
            "Epoch 22/25\n",
            "50000/50000 [==============================] - 1s 20us/sample - loss: 0.5885 - accuracy: 0.7949 - val_loss: 1.3721 - val_accuracy: 0.5850\n",
            "Epoch 23/25\n",
            "50000/50000 [==============================] - 1s 19us/sample - loss: 0.5642 - accuracy: 0.8054 - val_loss: 1.3976 - val_accuracy: 0.5782\n",
            "Epoch 24/25\n",
            "50000/50000 [==============================] - 1s 20us/sample - loss: 0.5426 - accuracy: 0.8108 - val_loss: 1.4268 - val_accuracy: 0.5820\n",
            "Epoch 25/25\n",
            "50000/50000 [==============================] - 1s 19us/sample - loss: 0.5281 - accuracy: 0.8139 - val_loss: 1.4695 - val_accuracy: 0.5758\n"
          ],
          "name": "stdout"
        }
      ]
    },
    {
      "cell_type": "code",
      "metadata": {
        "id": "IBcpHVE3vcVK",
        "colab_type": "code",
        "colab": {
          "base_uri": "https://localhost:8080/",
          "height": 884
        },
        "outputId": "3e163a58-eb8b-4b0c-8153-d5e31ec9fdde"
      },
      "source": [
        "wln_model.compile(optimizer='adam', \n",
        "                  loss='categorical_crossentropy',\n",
        "                  metrics=['accuracy'])\n",
        "\n",
        "wln_history = wln_model.fit(x_train, y_train,\n",
        "                           batch_size=batch_size,\n",
        "                           epochs=epochs_long,\n",
        "                           validation_data=(x_test, y_test),\n",
        "                           shuffle=True)"
      ],
      "execution_count": 18,
      "outputs": [
        {
          "output_type": "stream",
          "text": [
            "Train on 50000 samples, validate on 10000 samples\n",
            "Epoch 1/25\n",
            "50000/50000 [==============================] - 6s 127us/sample - loss: 1.7475 - accuracy: 0.3748 - val_loss: 1.5175 - val_accuracy: 0.4606\n",
            "Epoch 2/25\n",
            "50000/50000 [==============================] - 4s 85us/sample - loss: 1.4243 - accuracy: 0.4948 - val_loss: 1.3680 - val_accuracy: 0.5160\n",
            "Epoch 3/25\n",
            "50000/50000 [==============================] - 4s 83us/sample - loss: 1.2930 - accuracy: 0.5422 - val_loss: 1.3167 - val_accuracy: 0.5316\n",
            "Epoch 4/25\n",
            "50000/50000 [==============================] - 4s 84us/sample - loss: 1.2217 - accuracy: 0.5682 - val_loss: 1.2722 - val_accuracy: 0.5436\n",
            "Epoch 5/25\n",
            "50000/50000 [==============================] - 4s 83us/sample - loss: 1.1568 - accuracy: 0.5922 - val_loss: 1.2264 - val_accuracy: 0.5670\n",
            "Epoch 6/25\n",
            "50000/50000 [==============================] - 4s 84us/sample - loss: 1.1114 - accuracy: 0.6090 - val_loss: 1.2394 - val_accuracy: 0.5629\n",
            "Epoch 7/25\n",
            "50000/50000 [==============================] - 4s 83us/sample - loss: 1.0581 - accuracy: 0.6276 - val_loss: 1.2124 - val_accuracy: 0.5685\n",
            "Epoch 8/25\n",
            "50000/50000 [==============================] - 4s 84us/sample - loss: 1.0173 - accuracy: 0.6443 - val_loss: 1.2018 - val_accuracy: 0.5807\n",
            "Epoch 9/25\n",
            "50000/50000 [==============================] - 4s 83us/sample - loss: 0.9890 - accuracy: 0.6528 - val_loss: 1.1795 - val_accuracy: 0.5907\n",
            "Epoch 10/25\n",
            "50000/50000 [==============================] - 4s 82us/sample - loss: 0.9486 - accuracy: 0.6660 - val_loss: 1.1814 - val_accuracy: 0.5905\n",
            "Epoch 11/25\n",
            "50000/50000 [==============================] - 4s 83us/sample - loss: 0.9155 - accuracy: 0.6785 - val_loss: 1.2006 - val_accuracy: 0.5913\n",
            "Epoch 12/25\n",
            "50000/50000 [==============================] - 4s 83us/sample - loss: 0.8910 - accuracy: 0.6888 - val_loss: 1.1719 - val_accuracy: 0.5974\n",
            "Epoch 13/25\n",
            "50000/50000 [==============================] - 4s 84us/sample - loss: 0.8598 - accuracy: 0.6995 - val_loss: 1.1889 - val_accuracy: 0.5982\n",
            "Epoch 14/25\n",
            "50000/50000 [==============================] - 4s 82us/sample - loss: 0.8322 - accuracy: 0.7105 - val_loss: 1.1935 - val_accuracy: 0.5987\n",
            "Epoch 15/25\n",
            "50000/50000 [==============================] - 4s 84us/sample - loss: 0.8020 - accuracy: 0.7219 - val_loss: 1.2003 - val_accuracy: 0.5967\n",
            "Epoch 16/25\n",
            "50000/50000 [==============================] - 4s 84us/sample - loss: 0.7817 - accuracy: 0.7260 - val_loss: 1.2114 - val_accuracy: 0.5948\n",
            "Epoch 17/25\n",
            "50000/50000 [==============================] - 4s 83us/sample - loss: 0.7614 - accuracy: 0.7351 - val_loss: 1.2286 - val_accuracy: 0.5991\n",
            "Epoch 18/25\n",
            "50000/50000 [==============================] - 4s 83us/sample - loss: 0.7328 - accuracy: 0.7451 - val_loss: 1.2517 - val_accuracy: 0.5958\n",
            "Epoch 19/25\n",
            "50000/50000 [==============================] - 4s 83us/sample - loss: 0.7123 - accuracy: 0.7527 - val_loss: 1.2661 - val_accuracy: 0.5940\n",
            "Epoch 20/25\n",
            "50000/50000 [==============================] - 4s 84us/sample - loss: 0.6922 - accuracy: 0.7609 - val_loss: 1.2879 - val_accuracy: 0.5911\n",
            "Epoch 21/25\n",
            "50000/50000 [==============================] - 4s 84us/sample - loss: 0.6770 - accuracy: 0.7668 - val_loss: 1.2969 - val_accuracy: 0.5905\n",
            "Epoch 22/25\n",
            "50000/50000 [==============================] - 4s 83us/sample - loss: 0.6534 - accuracy: 0.7748 - val_loss: 1.2909 - val_accuracy: 0.5962\n",
            "Epoch 23/25\n",
            "50000/50000 [==============================] - 4s 83us/sample - loss: 0.6280 - accuracy: 0.7846 - val_loss: 1.3023 - val_accuracy: 0.5945\n",
            "Epoch 24/25\n",
            "50000/50000 [==============================] - 4s 83us/sample - loss: 0.6164 - accuracy: 0.7869 - val_loss: 1.3377 - val_accuracy: 0.5898\n",
            "Epoch 25/25\n",
            "50000/50000 [==============================] - 4s 83us/sample - loss: 0.5927 - accuracy: 0.7965 - val_loss: 1.3469 - val_accuracy: 0.5876\n"
          ],
          "name": "stdout"
        }
      ]
    },
    {
      "cell_type": "code",
      "metadata": {
        "colab_type": "code",
        "id": "yujf2YRbwX55",
        "colab": {
          "base_uri": "https://localhost:8080/",
          "height": 281
        },
        "outputId": "8222e22a-dec2-4883-bec2-c1a7dfefdb6e"
      },
      "source": [
        "reg_accuracy = reg_history.history['accuracy']\n",
        "bn_accuracy = bn_history.history['accuracy']\n",
        "ln_accuracy = ln_history.history['accuracy']\n",
        "wn_accuracy = wn_history.history['accuracy']\n",
        "wln_accuracy = wln_history.history['accuracy']\n",
        "\n",
        "plt.plot(np.linspace(0, epochs,  epochs), reg_accuracy,\n",
        "             color='red', label='Regular ConvNet')\n",
        "\n",
        "plt.plot(np.linspace(0, epochs_long, epochs_long), bn_accuracy,\n",
        "         color='green', label='BatchNorm ConvNet')\n",
        "\n",
        "plt.plot(np.linspace(0, epochs, epochs), ln_accuracy,\n",
        "         color='black', label='LayerNorm ConvNet')\n",
        "\n",
        "plt.plot(np.linspace(0, epochs, epochs), wn_accuracy,\n",
        "         color='blue', label='WeightNorm ConvNet')\n",
        "\n",
        "plt.plot(np.linspace(0, epochs_long, epochs_long), wln_accuracy,\n",
        "         color='orange', label='Weight and Layer Norm ConvNet')\n",
        "\n",
        "plt.title('Normalization Methods Accuracy Comparison')\n",
        "plt.legend()\n",
        "plt.grid(True)\n",
        "plt.show()"
      ],
      "execution_count": 19,
      "outputs": [
        {
          "output_type": "display_data",
          "data": {
            "image/png": "[encoded data removed]",
            "text/plain": [
              "<Figure size 432x288 with 1 Axes>"
            ]
          },
          "metadata": {
            "tags": []
          }
        }
      ]
    },
    {
      "cell_type": "code",
      "metadata": {
        "id": "tw1bEL2UwX-l",
        "colab_type": "code",
        "colab": {
          "base_uri": "https://localhost:8080/",
          "height": 281
        },
        "outputId": "a671ebd5-8106-4569-cab4-bc0c79d9f721"
      },
      "source": [
        "reg_accuracy = reg_history.history['val_accuracy']\n",
        "bn_accuracy = bn_history.history['val_accuracy']\n",
        "ln_accuracy = ln_history.history['val_accuracy']\n",
        "wn_accuracy = wn_history.history['val_accuracy']\n",
        "wln_accuracy = wln_history.history['val_accuracy']\n",
        "\n",
        "plt.plot(np.linspace(0, epochs,  epochs), reg_accuracy,\n",
        "             color='red', label='Regular ConvNet')\n",
        "\n",
        "plt.plot(np.linspace(0, epochs_long, epochs_long), bn_accuracy,\n",
        "         color='green', label='BatchNorm ConvNet')\n",
        "\n",
        "plt.plot(np.linspace(0, epochs, epochs), ln_accuracy,\n",
        "         color='black', label='LayerNorm ConvNet')\n",
        "\n",
        "plt.plot(np.linspace(0, epochs, epochs), wn_accuracy,\n",
        "         color='blue', label='WeightNorm ConvNet')\n",
        "\n",
        "plt.plot(np.linspace(0, epochs_long, epochs_long), wln_accuracy,\n",
        "         color='orange', label='Weight and Layer Norm ConvNet')\n",
        "\n",
        "plt.title('Normalization Methods Validation Accuracy Comparison')\n",
        "plt.legend()\n",
        "plt.grid(True)\n",
        "plt.show()"
      ],
      "execution_count": 20,
      "outputs": [
        {
          "output_type": "display_data",
          "data": {
            "image/png": "[encoded data removed]",
            "text/plain": [
              "<Figure size 432x288 with 1 Axes>"
            ]
          },
          "metadata": {
            "tags": []
          }
        }
      ]
    }
  ]
}